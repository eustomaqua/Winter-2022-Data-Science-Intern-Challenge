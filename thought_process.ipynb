{
 "cells": [
  {
   "cell_type": "code",
   "execution_count": 16,
   "metadata": {},
   "outputs": [
    {
     "name": "stdout",
     "output_type": "stream",
     "text": [
      "Using matplotlib backend: Qt5Agg\n",
      "requirements.txt\n",
      "numpy==1.15.1\n",
      "pandas==0.23.4\n"
     ]
    }
   ],
   "source": [
    "import numpy as np\n",
    "import pandas as pd\n",
    "from copy import deepcopy\n",
    "\n",
    "import matplotlib as mpl\n",
    "import matplotlib.pyplot as plt\n",
    "%matplotlib\n",
    "\n",
    "print(\"requirements.txt\")\n",
    "print(\"numpy=={}\".format(np.__version__))\n",
    "print(\"pandas=={}\".format(pd.__version__))"
   ]
  },
  {
   "cell_type": "code",
   "execution_count": 3,
   "metadata": {},
   "outputs": [
    {
     "name": "stdout",
     "output_type": "stream",
     "text": [
      "<class 'pandas.core.frame.DataFrame'>\n",
      "RangeIndex: 5000 entries, 0 to 4999\n",
      "Data columns (total 7 columns):\n",
      "order_id          5000 non-null int64\n",
      "shop_id           5000 non-null int64\n",
      "user_id           5000 non-null int64\n",
      "order_amount      5000 non-null int64\n",
      "total_items       5000 non-null int64\n",
      "payment_method    5000 non-null object\n",
      "created_at        5000 non-null object\n",
      "dtypes: int64(5), object(2)\n",
      "memory usage: 273.5+ KB\n"
     ]
    }
   ],
   "source": [
    "dframe = pd.read_csv(\"2019-Winter-Data-Science-Intern-Challenge-Data-Set.csv\")\n",
    "\n",
    "dframe.info()"
   ]
  },
  {
   "cell_type": "code",
   "execution_count": 4,
   "metadata": {},
   "outputs": [
    {
     "data": {
      "text/html": [
       "<div>\n",
       "<style scoped>\n",
       "    .dataframe tbody tr th:only-of-type {\n",
       "        vertical-align: middle;\n",
       "    }\n",
       "\n",
       "    .dataframe tbody tr th {\n",
       "        vertical-align: top;\n",
       "    }\n",
       "\n",
       "    .dataframe thead th {\n",
       "        text-align: right;\n",
       "    }\n",
       "</style>\n",
       "<table border=\"1\" class=\"dataframe\">\n",
       "  <thead>\n",
       "    <tr style=\"text-align: right;\">\n",
       "      <th></th>\n",
       "      <th>order_id</th>\n",
       "      <th>shop_id</th>\n",
       "      <th>user_id</th>\n",
       "      <th>order_amount</th>\n",
       "      <th>total_items</th>\n",
       "    </tr>\n",
       "  </thead>\n",
       "  <tbody>\n",
       "    <tr>\n",
       "      <th>count</th>\n",
       "      <td>5000.000000</td>\n",
       "      <td>5000.000000</td>\n",
       "      <td>5000.000000</td>\n",
       "      <td>5000.000000</td>\n",
       "      <td>5000.00000</td>\n",
       "    </tr>\n",
       "    <tr>\n",
       "      <th>mean</th>\n",
       "      <td>2500.500000</td>\n",
       "      <td>50.078800</td>\n",
       "      <td>849.092400</td>\n",
       "      <td>3145.128000</td>\n",
       "      <td>8.78720</td>\n",
       "    </tr>\n",
       "    <tr>\n",
       "      <th>std</th>\n",
       "      <td>1443.520003</td>\n",
       "      <td>29.006118</td>\n",
       "      <td>87.798982</td>\n",
       "      <td>41282.539349</td>\n",
       "      <td>116.32032</td>\n",
       "    </tr>\n",
       "    <tr>\n",
       "      <th>min</th>\n",
       "      <td>1.000000</td>\n",
       "      <td>1.000000</td>\n",
       "      <td>607.000000</td>\n",
       "      <td>90.000000</td>\n",
       "      <td>1.00000</td>\n",
       "    </tr>\n",
       "    <tr>\n",
       "      <th>25%</th>\n",
       "      <td>1250.750000</td>\n",
       "      <td>24.000000</td>\n",
       "      <td>775.000000</td>\n",
       "      <td>163.000000</td>\n",
       "      <td>1.00000</td>\n",
       "    </tr>\n",
       "    <tr>\n",
       "      <th>50%</th>\n",
       "      <td>2500.500000</td>\n",
       "      <td>50.000000</td>\n",
       "      <td>849.000000</td>\n",
       "      <td>284.000000</td>\n",
       "      <td>2.00000</td>\n",
       "    </tr>\n",
       "    <tr>\n",
       "      <th>75%</th>\n",
       "      <td>3750.250000</td>\n",
       "      <td>75.000000</td>\n",
       "      <td>925.000000</td>\n",
       "      <td>390.000000</td>\n",
       "      <td>3.00000</td>\n",
       "    </tr>\n",
       "    <tr>\n",
       "      <th>max</th>\n",
       "      <td>5000.000000</td>\n",
       "      <td>100.000000</td>\n",
       "      <td>999.000000</td>\n",
       "      <td>704000.000000</td>\n",
       "      <td>2000.00000</td>\n",
       "    </tr>\n",
       "  </tbody>\n",
       "</table>\n",
       "</div>"
      ],
      "text/plain": [
       "          order_id      shop_id      user_id   order_amount  total_items\n",
       "count  5000.000000  5000.000000  5000.000000    5000.000000   5000.00000\n",
       "mean   2500.500000    50.078800   849.092400    3145.128000      8.78720\n",
       "std    1443.520003    29.006118    87.798982   41282.539349    116.32032\n",
       "min       1.000000     1.000000   607.000000      90.000000      1.00000\n",
       "25%    1250.750000    24.000000   775.000000     163.000000      1.00000\n",
       "50%    2500.500000    50.000000   849.000000     284.000000      2.00000\n",
       "75%    3750.250000    75.000000   925.000000     390.000000      3.00000\n",
       "max    5000.000000   100.000000   999.000000  704000.000000   2000.00000"
      ]
     },
     "execution_count": 4,
     "metadata": {},
     "output_type": "execute_result"
    }
   ],
   "source": [
    "dframe.describe()"
   ]
  },
  {
   "cell_type": "code",
   "execution_count": 6,
   "metadata": {},
   "outputs": [
    {
     "name": "stdout",
     "output_type": "stream",
     "text": [
      "\n",
      "\n",
      "Q: How many shops are there?\n",
      "A: There are 100 different shops.\n",
      "Q: How many users are there?\n",
      "A: There are 301 different users.\n",
      "Q: How many payment methods are there?\n",
      "A: There are 3 methods to pay for merchandises, including debit, cash, and credit_card.\n"
     ]
    }
   ],
   "source": [
    "total_items = dframe['total_items'].values\n",
    "order_amount = dframe['order_amount'].values\n",
    "\n",
    "print(\"\\n\")\n",
    "print(\"Q: How many shops are there?\")\n",
    "print(\"A: There are {} different shops.\".format(\n",
    "    len(set(dframe['shop_id']))))\n",
    "print(\"Q: How many users are there?\")\n",
    "print(\"A: There are {} different users.\".format(\n",
    "    len(set(dframe['user_id']))))\n",
    "\n",
    "payment_method = list(set(dframe['payment_method']))\n",
    "print(\"Q: How many payment methods are there?\")\n",
    "print(\"A: There are {} methods to pay for merchandises, \"\n",
    "      \"including {}, and {}.\".format(\n",
    "          len(payment_method),\n",
    "          ', '.join(payment_method[:-1]),\n",
    "          payment_method[-1]))"
   ]
  },
  {
   "cell_type": "code",
   "execution_count": 9,
   "metadata": {},
   "outputs": [
    {
     "name": "stderr",
     "output_type": "stream",
     "text": [
      "C:\\Users\\Lenovo\\Anaconda3\\lib\\site-packages\\matplotlib\\axes\\_axes.py:6571: UserWarning: The 'normed' kwarg is deprecated, and has been replaced by the 'density' kwarg.\n",
      "  warnings.warn(\"The 'normed' kwarg is deprecated, and has been \"\n"
     ]
    },
    {
     "data": {
      "image/png": "[encoded data removed]",
      "text/plain": [
       "<Figure size 432x288 with 1 Axes>"
      ]
     },
     "metadata": {
      "needs_background": "light"
     },
     "output_type": "display_data"
    }
   ],
   "source": [
    "def plot_all_together(data):\n",
    "    plt.hist(data, bins=40, normed=0, facecolor='blue', edgecolor='black', alpha=.7)\n",
    "    plt.xlabel('Price of sneaker')\n",
    "    plt.ylabel('Frequency')\n",
    "    plt.title('Put all sneakers from all shops together')\n",
    "    plt.show()\n",
    "    return\n",
    "\n",
    "plot_all_together(order_amount / total_items)"
   ]
  },
  {
   "cell_type": "code",
   "execution_count": 10,
   "metadata": {},
   "outputs": [
    {
     "name": "stdout",
     "output_type": "stream",
     "text": [
      "Shop #  1: sneaker price is 158.0.\tThere are 44 orders and  86 sold items in total.\n",
      "Shop #  2: sneaker price is 94.0.\tThere are 55 orders and 102 sold items in total.\n",
      "Shop #  3: sneaker price is 148.0.\tThere are 48 orders and  99 sold items in total.\n",
      "Shop #  4: sneaker price is 128.0.\tThere are 51 orders and 103 sold items in total.\n",
      "Shop #  5: sneaker price is 142.0.\tThere are 45 orders and  92 sold items in total.\n",
      "Shop #  6: sneaker price is 187.0.\tThere are 59 orders and 121 sold items in total.\n",
      "Shop #  7: sneaker price is 112.0.\tThere are 56 orders and 109 sold items in total.\n",
      "Shop #  8: sneaker price is 132.0.\tThere are 46 orders and  84 sold items in total.\n",
      "Shop #  9: sneaker price is 118.0.\tThere are 59 orders and 117 sold items in total.\n",
      "Shop # 10: sneaker price is 148.0.\tThere are 53 orders and 119 sold items in total.\n",
      "Shop # 11: sneaker price is 184.0.\tThere are 49 orders and  95 sold items in total.\n",
      "Shop # 12: sneaker price is 201.0.\tThere are 53 orders and  93 sold items in total.\n",
      "Shop # 13: sneaker price is 160.0.\tThere are 63 orders and 136 sold items in total.\n",
      "Shop # 14: sneaker price is 116.0.\tThere are 58 orders and 121 sold items in total.\n",
      "Shop # 15: sneaker price is 153.0.\tThere are 52 orders and 105 sold items in total.\n",
      "Shop # 16: sneaker price is 156.0.\tThere are 41 orders and  71 sold items in total.\n",
      "Shop # 17: sneaker price is 176.0.\tThere are 53 orders and 100 sold items in total.\n",
      "Shop # 18: sneaker price is 156.0.\tThere are 51 orders and 112 sold items in total.\n",
      "Shop # 19: sneaker price is 163.0.\tThere are 64 orders and 126 sold items in total.\n",
      "Shop # 20: sneaker price is 127.0.\tThere are 52 orders and 103 sold items in total.\n",
      "Shop # 21: sneaker price is 142.0.\tThere are 46 orders and 100 sold items in total.\n",
      "Shop # 22: sneaker price is 146.0.\tThere are 48 orders and  90 sold items in total.\n",
      "Shop # 23: sneaker price is 156.0.\tThere are 55 orders and 112 sold items in total.\n",
      "Shop # 24: sneaker price is 140.0.\tThere are 55 orders and 126 sold items in total.\n",
      "Shop # 25: sneaker price is 130.0.\tThere are 48 orders and  86 sold items in total.\n",
      "Shop # 26: sneaker price is 176.0.\tThere are 49 orders and  95 sold items in total.\n",
      "Shop # 27: sneaker price is 169.0.\tThere are 54 orders and 107 sold items in total.\n",
      "Shop # 28: sneaker price is 164.0.\tThere are 43 orders and  84 sold items in total.\n",
      "Shop # 29: sneaker price is 163.0.\tThere are 58 orders and 118 sold items in total.\n",
      "Shop # 30: sneaker price is 153.0.\tThere are 56 orders and 108 sold items in total.\n",
      "Shop # 31: sneaker price is 129.0.\tThere are 47 orders and  98 sold items in total.\n",
      "Shop # 32: sneaker price is 101.0.\tThere are 42 orders and  79 sold items in total.\n",
      "Shop # 33: sneaker price is 173.0.\tThere are 40 orders and  87 sold items in total.\n",
      "Shop # 34: sneaker price is 122.0.\tThere are 50 orders and  96 sold items in total.\n",
      "Shop # 35: sneaker price is 164.0.\tThere are 52 orders and 104 sold items in total.\n",
      "Shop # 36: sneaker price is 130.0.\tThere are 50 orders and  98 sold items in total.\n",
      "Shop # 37: sneaker price is 142.0.\tThere are 48 orders and 115 sold items in total.\n",
      "Shop # 38: sneaker price is 190.0.\tThere are 35 orders and  72 sold items in total.\n",
      "Shop # 39: sneaker price is 134.0.\tThere are 41 orders and  82 sold items in total.\n",
      "Shop # 40: sneaker price is 161.0.\tThere are 48 orders and  88 sold items in total.\n",
      "Shop # 41: sneaker price is 118.0.\tThere are 59 orders and 127 sold items in total.\n",
      "Shop # 42: sneaker price is 352.0.\tThere are 51 orders and 34063 sold items in total.\n",
      "Shop # 43: sneaker price is 181.0.\tThere are 58 orders and 107 sold items in total.\n",
      "Shop # 44: sneaker price is 144.0.\tThere are 39 orders and  71 sold items in total.\n",
      "Shop # 45: sneaker price is 142.0.\tThere are 58 orders and 110 sold items in total.\n",
      "Shop # 46: sneaker price is 166.0.\tThere are 43 orders and  90 sold items in total.\n",
      "Shop # 47: sneaker price is 145.0.\tThere are 47 orders and  84 sold items in total.\n",
      "Shop # 48: sneaker price is 117.0.\tThere are 40 orders and  83 sold items in total.\n",
      "Shop # 49: sneaker price is 129.0.\tThere are 53 orders and 115 sold items in total.\n",
      "Shop # 50: sneaker price is 193.0.\tThere are 44 orders and  92 sold items in total.\n",
      "Shop # 51: sneaker price is 187.0.\tThere are 46 orders and  89 sold items in total.\n",
      "Shop # 52: sneaker price is 146.0.\tThere are 41 orders and  89 sold items in total.\n",
      "Shop # 53: sneaker price is 112.0.\tThere are 68 orders and 130 sold items in total.\n",
      "Shop # 54: sneaker price is 133.0.\tThere are 50 orders and 104 sold items in total.\n",
      "Shop # 55: sneaker price is 171.0.\tThere are 48 orders and  92 sold items in total.\n",
      "Shop # 56: sneaker price is 117.0.\tThere are 37 orders and  69 sold items in total.\n",
      "Shop # 57: sneaker price is 147.0.\tThere are 53 orders and 107 sold items in total.\n",
      "Shop # 58: sneaker price is 138.0.\tThere are 59 orders and 109 sold items in total.\n",
      "Shop # 59: sneaker price is 178.0.\tThere are 60 orders and 121 sold items in total.\n",
      "Shop # 60: sneaker price is 177.0.\tThere are 47 orders and  93 sold items in total.\n",
      "Shop # 61: sneaker price is 158.0.\tThere are 50 orders and 109 sold items in total.\n",
      "Shop # 62: sneaker price is 160.0.\tThere are 43 orders and  83 sold items in total.\n",
      "Shop # 63: sneaker price is 136.0.\tThere are 58 orders and 113 sold items in total.\n",
      "Shop # 64: sneaker price is 133.0.\tThere are 43 orders and  88 sold items in total.\n",
      "Shop # 65: sneaker price is 154.0.\tThere are 54 orders and 116 sold items in total.\n",
      "Shop # 66: sneaker price is 161.0.\tThere are 53 orders and 103 sold items in total.\n",
      "Shop # 67: sneaker price is 131.0.\tThere are 37 orders and  77 sold items in total.\n",
      "Shop # 68: sneaker price is 136.0.\tThere are 47 orders and  88 sold items in total.\n",
      "Shop # 69: sneaker price is 131.0.\tThere are 60 orders and 121 sold items in total.\n",
      "Shop # 70: sneaker price is 173.0.\tThere are 59 orders and 117 sold items in total.\n",
      "Shop # 71: sneaker price is 164.0.\tThere are 66 orders and 130 sold items in total.\n",
      "Shop # 72: sneaker price is 160.0.\tThere are 46 orders and  89 sold items in total.\n",
      "Shop # 73: sneaker price is 165.0.\tThere are 58 orders and 118 sold items in total.\n",
      "Shop # 74: sneaker price is 153.0.\tThere are 38 orders and  76 sold items in total.\n",
      "Shop # 75: sneaker price is 128.0.\tThere are 42 orders and  79 sold items in total.\n",
      "Shop # 76: sneaker price is 155.0.\tThere are 42 orders and  87 sold items in total.\n",
      "Shop # 77: sneaker price is 156.0.\tThere are 50 orders and  90 sold items in total.\n",
      "Shop # 78: sneaker price is 25725.0.\tThere are 46 orders and  88 sold items in total.\n",
      "Shop # 79: sneaker price is 181.0.\tThere are 54 orders and  98 sold items in total.\n",
      "Shop # 80: sneaker price is 145.0.\tThere are 45 orders and  93 sold items in total.\n",
      "Shop # 81: sneaker price is 177.0.\tThere are 59 orders and 128 sold items in total.\n",
      "Shop # 82: sneaker price is 177.0.\tThere are 42 orders and  83 sold items in total.\n",
      "Shop # 83: sneaker price is 129.0.\tThere are 42 orders and  81 sold items in total.\n",
      "Shop # 84: sneaker price is 153.0.\tThere are 59 orders and 132 sold items in total.\n",
      "Shop # 85: sneaker price is 172.0.\tThere are 35 orders and  67 sold items in total.\n",
      "Shop # 86: sneaker price is 130.0.\tThere are 52 orders and 111 sold items in total.\n",
      "Shop # 87: sneaker price is 149.0.\tThere are 52 orders and 102 sold items in total.\n",
      "Shop # 88: sneaker price is 176.0.\tThere are 50 orders and 101 sold items in total.\n",
      "Shop # 89: sneaker price is 196.0.\tThere are 61 orders and 118 sold items in total.\n",
      "Shop # 90: sneaker price is 178.0.\tThere are 49 orders and 111 sold items in total.\n",
      "Shop # 91: sneaker price is 160.0.\tThere are 54 orders and 110 sold items in total.\n",
      "Shop # 92: sneaker price is 90.0.\tThere are 42 orders and  76 sold items in total.\n",
      "Shop # 93: sneaker price is 114.0.\tThere are 59 orders and 111 sold items in total.\n",
      "Shop # 94: sneaker price is 134.0.\tThere are 45 orders and 100 sold items in total.\n",
      "Shop # 95: sneaker price is 168.0.\tThere are 39 orders and  74 sold items in total.\n",
      "Shop # 96: sneaker price is 153.0.\tThere are 51 orders and 110 sold items in total.\n",
      "Shop # 97: sneaker price is 162.0.\tThere are 48 orders and  96 sold items in total.\n",
      "Shop # 98: sneaker price is 133.0.\tThere are 58 orders and 107 sold items in total.\n",
      "Shop # 99: sneaker price is 195.0.\tThere are 54 orders and  94 sold items in total.\n",
      "Shop #100: sneaker price is 111.0.\tThere are 40 orders and  77 sold items in total.\n"
     ]
    }
   ],
   "source": [
    "diff_shops = sorted(set(dframe['shop_id']))\n",
    "diff_price = []\n",
    "diff_numbr = []\n",
    "diff_total_items = []\n",
    "diff_total_amoun = []\n",
    "\n",
    "for i in diff_shops:\n",
    "    subdf = dframe[dframe['shop_id'] == i]\n",
    "\n",
    "    sub_order = subdf['order_amount'].values\n",
    "    sub_items = subdf['total_items'].values\n",
    "    sub_price = sub_order / sub_items\n",
    "    assert len(set(sub_price)) == 1\n",
    "    sub_price = list(set(sub_price))[0]\n",
    "\n",
    "    print(\"Shop #{:3d}: sneaker price is {}.\".format(\n",
    "        i, sub_price), end=\"\")\n",
    "    print(\"\\tThere are {:2d} orders and {:3d} sold items in total.\".format(\n",
    "        len(sub_order), np.sum(sub_items)))\n",
    "\n",
    "    diff_price.append(sub_price)\n",
    "    diff_numbr.append(len(sub_order))\n",
    "    diff_total_items.append(np.sum(sub_items))\n",
    "    diff_total_amoun.append(np.sum(sub_order))"
   ]
  },
  {
   "cell_type": "code",
   "execution_count": 14,
   "metadata": {},
   "outputs": [
    {
     "name": "stderr",
     "output_type": "stream",
     "text": [
      "C:\\Users\\Lenovo\\Anaconda3\\lib\\site-packages\\matplotlib\\axes\\_axes.py:6571: UserWarning: The 'normed' kwarg is deprecated, and has been replaced by the 'density' kwarg.\n",
      "  warnings.warn(\"The 'normed' kwarg is deprecated, and has been \"\n"
     ]
    },
    {
     "data": {
      "image/png": "[encoded data removed]",
      "text/plain": [
       "<Figure size 432x288 with 1 Axes>"
      ]
     },
     "metadata": {
      "needs_background": "light"
     },
     "output_type": "display_data"
    },
    {
     "data": {
      "image/png": "[encoded data removed]",
      "text/plain": [
       "<Figure size 432x288 with 1 Axes>"
      ]
     },
     "metadata": {
      "needs_background": "light"
     },
     "output_type": "display_data"
    },
    {
     "data": {
      "image/png": "[encoded data removed]",
      "text/plain": [
       "<Figure size 432x288 with 1 Axes>"
      ]
     },
     "metadata": {
      "needs_background": "light"
     },
     "output_type": "display_data"
    },
    {
     "data": {
      "image/png": "[encoded data removed]",
      "text/plain": [
       "<Figure size 432x288 with 1 Axes>"
      ]
     },
     "metadata": {
      "needs_background": "light"
     },
     "output_type": "display_data"
    }
   ],
   "source": [
    "def subplot_different_shops(data, bins, text):\n",
    "    plt.hist(data, bins=bins, normed=0, facecolor='blue',\n",
    "             edgecolor='black', alpha=.7)\n",
    "    plt.xlabel(text)\n",
    "    plt.ylabel('Frequency')\n",
    "    plt.title('{} in different shops'.format(text))\n",
    "    plt.show()\n",
    "    return\n",
    "\n",
    "\n",
    "subplot_different_shops(diff_price, 200, 'Price of sneakers')\n",
    "subplot_different_shops(diff_numbr, 40, 'Number of orders')\n",
    "subplot_different_shops(diff_total_items, 200, 'Number of sold items')\n",
    "subplot_different_shops(diff_total_amoun, 200, 'Total sold order_amount')"
   ]
  },
  {
   "cell_type": "code",
   "execution_count": 18,
   "metadata": {},
   "outputs": [
    {
     "name": "stdout",
     "output_type": "stream",
     "text": [
      "\n",
      "\n",
      "\n",
      "The outlier is the shop #78, selling the sneaker with the price of $25725.0. There are 88 items sold in 46 orders, and the total amount is $2263800.\n"
     ]
    },
    {
     "name": "stderr",
     "output_type": "stream",
     "text": [
      "C:\\Users\\Lenovo\\Anaconda3\\lib\\site-packages\\matplotlib\\axes\\_axes.py:6571: UserWarning: The 'normed' kwarg is deprecated, and has been replaced by the 'density' kwarg.\n",
      "  warnings.warn(\"The 'normed' kwarg is deprecated, and has been \"\n"
     ]
    }
   ],
   "source": [
    "copy_shops = deepcopy(diff_shops)\n",
    "copy_price = deepcopy(diff_price)\n",
    "copy_numbr = deepcopy(diff_numbr)\n",
    "copy_total_items = deepcopy(diff_total_items)\n",
    "copy_total_amoun = deepcopy(diff_total_amoun)\n",
    "\n",
    "outlier_idx = copy_price.index(max(copy_price))\n",
    "print(\"\\n\\n\")\n",
    "print(\"The outlier is the shop #{}, selling the sneaker with the price\"\n",
    "      \" of ${}. There are {} items sold in {} orders, and the total amount\"\n",
    "      \" is ${}.\".format(diff_shops[outlier_idx], diff_price[outlier_idx],\n",
    "                        copy_total_items[outlier_idx], copy_numbr[outlier_idx],\n",
    "                        copy_total_amoun[outlier_idx]))\n",
    "\n",
    "\n",
    "del copy_shops[outlier_idx]\n",
    "del copy_price[outlier_idx]\n",
    "del copy_numbr[outlier_idx]\n",
    "del copy_total_items[outlier_idx]\n",
    "del copy_total_amoun[outlier_idx]\n",
    "\n",
    "\n",
    "def subplot_different_shops_without_outliers(data, text):\n",
    "    plt.hist(data, bins=40, normed=0, facecolor='blue',\n",
    "             edgecolor='black', alpha=.7)\n",
    "    plt.xlabel(text)\n",
    "    plt.ylabel('Frequency')\n",
    "    plt.title('{} in different shops without outliers'.format(text))\n",
    "    plt.show()\n",
    "    return\n",
    "\n",
    "\n",
    "subplot_different_shops_without_outliers(copy_price, 'Price of sneakers')\n",
    "subplot_different_shops_without_outliers(copy_numbr, 'Number of orders')\n",
    "subplot_different_shops_without_outliers(copy_total_items, 'Number of sold items')\n",
    "subplot_different_shops_without_outliers(copy_total_amoun, 'Total sold order_amount')"
   ]
  },
  {
   "cell_type": "code",
   "execution_count": null,
   "metadata": {},
   "outputs": [],
   "source": []
  }
 ],
 "metadata": {
  "kernelspec": {
   "display_name": "Python 3",
   "language": "python",
   "name": "python3"
  },
  "language_info": {
   "codemirror_mode": {
    "name": "ipython",
    "version": 3
   },
   "file_extension": ".py",
   "mimetype": "text/x-python",
   "name": "python",
   "nbconvert_exporter": "python",
   "pygments_lexer": "ipython3",
   "version": "3.7.0"
  }
 },
 "nbformat": 4,
 "nbformat_minor": 2
}
